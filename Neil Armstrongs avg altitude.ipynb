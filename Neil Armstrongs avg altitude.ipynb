{
 "cells": [
  {
   "cell_type": "markdown",
   "metadata": {},
   "source": [
    "# On average, how far above the earth was Neil Armstrong during his lifetime?\n",
    "\n",
    "Data from a graphic of the Apollo 11 Lunar Mission Flight path hosted by the Smithsonian Air & Space Museum on Jan 28 2020. Note that I round to nearest hour on all numbers.\n",
    "\n",
    "https://airandspace.si.edu/sites/default/files/images/5317h.jpg"
   ]
  },
  {
   "cell_type": "code",
   "execution_count": 4,
   "metadata": {},
   "outputs": [],
   "source": [
    "outbound_hours = 63\n",
    "orbit_hours = 112 - 63\n",
    "inbound_hours = 201 - 112\n",
    "\n",
    "avg_lunar_dist_km = 384000 # km\n",
    "avg_lunar_dist_mi = 239000 # mi\n",
    "\n",
    "Neils_life_in_hours = (2012 - 1930) * 24 * 365 # Wikipedia, he was born and died in August so close enough"
   ]
  },
  {
   "cell_type": "code",
   "execution_count": 8,
   "metadata": {},
   "outputs": [
    {
     "name": "stdout",
     "output_type": "stream",
     "text": [
      " Neil Armstrong's average altitude above earth in km: 66.82\n",
      " Neil Armstrong's average altitude above earth in mi: 41.59\n"
     ]
    }
   ],
   "source": [
    "# assuming \n",
    "# 1. his average altitude for the rest of his life was 0\n",
    "# 2. velocity w.r.t earth during inbound and outbound legs was roughly constant (clearly not true!)\n",
    "print(' Neil Armstrong\\'s average altitude above earth in km: {:4.2f}'.format( \n",
    "    (( outbound_hours + inbound_hours) * avg_lunar_dist_km / 2 + orbit_hours * avg_lunar_dist_km ) \n",
    "    / Neils_life_in_hours ))\n",
    "print(' Neil Armstrong\\'s average altitude above earth in mi: {:4.2f}'.format( \n",
    "    (( outbound_hours + inbound_hours) * avg_lunar_dist_mi / 2 + orbit_hours * avg_lunar_dist_mi ) \n",
    "    / Neils_life_in_hours ))"
   ]
  },
  {
   "cell_type": "code",
   "execution_count": null,
   "metadata": {},
   "outputs": [],
   "source": []
  }
 ],
 "metadata": {
  "kernelspec": {
   "display_name": "Python 3",
   "language": "python",
   "name": "python3"
  },
  "language_info": {
   "codemirror_mode": {
    "name": "ipython",
    "version": 3
   },
   "file_extension": ".py",
   "mimetype": "text/x-python",
   "name": "python",
   "nbconvert_exporter": "python",
   "pygments_lexer": "ipython3",
   "version": "3.7.4"
  }
 },
 "nbformat": 4,
 "nbformat_minor": 2
}
